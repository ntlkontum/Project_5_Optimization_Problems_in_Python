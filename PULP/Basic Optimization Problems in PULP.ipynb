{
 "cells": [
  {
   "cell_type": "markdown",
   "id": "7f38af24-f453-4c71-a978-98aac67b9229",
   "metadata": {},
   "source": [
    "--------------------\n",
    "Nguyen Thanh Long\n",
    "\n",
    "__________________"
   ]
  },
  {
   "cell_type": "markdown",
   "id": "d48fe76e-b3e2-47b0-ad26-fced4b9772a5",
   "metadata": {},
   "source": [
    "**OPTIMIZATION PROBLEMS**"
   ]
  },
  {
   "cell_type": "markdown",
   "id": "8ceea312-cdd9-4285-b38c-4dc8469372ba",
   "metadata": {},
   "source": [
    "An optimization problem involves finding the best solution (maximum or minimum) for an objective function within a set of constraints. In manufacturing and supply chains, the results of optimization problems help optimize the supply chain, plan production and delivery schedules, and allocate resources"
   ]
  },
  {
   "attachments": {
    "ec139f01-cc97-4b97-ac5d-bfdf21436d38.png": {
     "image/png": "[encoded data removed]"
    }
   },
   "cell_type": "markdown",
   "id": "ac763985-8fda-454c-8321-ad854e9c31ca",
   "metadata": {},
   "source": [
    "In this section, I will use the `PuLP` library in the Python programming language to solve optimization problems. `PuLP` is an open-source library that helps formulate and great for solving:\n",
    "- Linear Programming (LP) Problems\n",
    "- Integer Programming (IP) Problems\n",
    "- Mixed-Integer Programming (MIP) Problems\n",
    "- Binary Integer Programming (BIP) Problems \n",
    "- ![image.png](attachment:ec139f01-cc97-4b97-ac5d-bfdf21436d38.png)"
   ]
  },
  {
   "cell_type": "markdown",
   "id": "e0c82d91-a582-4661-a800-50a249d29e59",
   "metadata": {},
   "source": [
    "### Install libraries"
   ]
  },
  {
   "cell_type": "code",
   "execution_count": null,
   "id": "da18cce7-c56f-475c-804d-32f79bb49f89",
   "metadata": {},
   "outputs": [],
   "source": [
    "# Install libraries\n",
    "!pip install pulp\n",
    "!pip install numpy"
   ]
  },
  {
   "cell_type": "markdown",
   "id": "59b63a51-94c7-45d2-8bb1-5ac3722cebee",
   "metadata": {},
   "source": [
    "In PuLP, there are two main ways to represent an optimization problem:\n",
    "- Explicit Variable Definition\n",
    "- Matrix Formulation (Using Dictionaries,Lists)"
   ]
  },
  {
   "cell_type": "markdown",
   "id": "1d4e8c20-f782-4454-81cc-5f1547e2921c",
   "metadata": {},
   "source": [
    " *However, I recommend using the Matrix Formulation approach to automatically generate variables, making the coding process faster and more scalable.*"
   ]
  },
  {
   "cell_type": "markdown",
   "id": "215d28a9-bea8-47b8-bd2a-7c75f119e07a",
   "metadata": {
    "jp-MarkdownHeadingCollapsed": true
   },
   "source": [
    "## EX1: Simple Linear Programming (LP) - **Maximization Problem**"
   ]
  },
  {
   "attachments": {
    "261ac2f0-0eaa-4514-9eb6-37ed63e6b87b.png": {
     "image/png": "[encoded data removed]"
    }
   },
   "cell_type": "markdown",
   "id": "5256ac5f-42fe-4d62-8729-8684d2c3a4d1",
   "metadata": {},
   "source": [
    "![image.png](attachment:261ac2f0-0eaa-4514-9eb6-37ed63e6b87b.png)"
   ]
  },
  {
   "cell_type": "markdown",
   "id": "68aa0ad5-ae60-41b5-b1ff-0b012f79ba66",
   "metadata": {},
   "source": [
    "**Explicit Variable Definition**"
   ]
  },
  {
   "cell_type": "code",
   "execution_count": 26,
   "id": "20e01e86-9695-4e11-82b4-664db0237cd4",
   "metadata": {},
   "outputs": [
    {
     "name": "stdout",
     "output_type": "stream",
     "text": [
      "Obiective value: 17.0\n",
      "x1 = -4.0\n",
      "x2 = 0.0\n",
      "x3 = 0.0\n",
      "x4 = 3.0\n"
     ]
    }
   ],
   "source": [
    "from pulp import*\n",
    "\n",
    "# Initialize the problem (Maximization problem)\n",
    "model=LpProblem('EX1:Simple_Linear_Programming_(LP)_Maximization_Problem',LpMaximize)\n",
    "\n",
    "# Define Variables \n",
    "x1=LpVariable('x1',cat='Continuous')\n",
    "x2=LpVariable('x2',lowBound=0,cat='Continuous')\n",
    "x3=LpVariable('x3',lowBound=0,cat='Continuous')\n",
    "x4=LpVariable('x4',lowBound=0,cat='Continuous')\n",
    "\n",
    "# Objective function\n",
    "model += -2*x1 + x2  -4*x3 + 3*x4\n",
    "\n",
    "# Constraints\n",
    "model += x1 + x2 + 3*x3 +2*x4 <= 4\n",
    "model += x1 - x3 +x4  >= -1\n",
    "model += 2*x1 +x2 <= 2\n",
    "model += x1+2*x2 + x3 + 2*x4 == 2\n",
    "\n",
    "# Solve the problem\n",
    "model.solve()\n",
    "\n",
    "# Print results\n",
    "print('Obiective value:',value(model.objective))\n",
    "for v in model.variables():\n",
    "  print(v.name,'=',v.varValue)"
   ]
  },
  {
   "cell_type": "markdown",
   "id": "d4e81028-a5ef-4718-ad10-93638c6569f8",
   "metadata": {},
   "source": [
    "-------------------------------"
   ]
  },
  {
   "cell_type": "markdown",
   "id": "d7528c5b-ac10-4e37-9894-051389713198",
   "metadata": {},
   "source": [
    "**Matrix Formulation**"
   ]
  },
  {
   "cell_type": "code",
   "execution_count": 43,
   "id": "c1225b29-ce00-4ccf-b019-3adac5cfe47b",
   "metadata": {},
   "outputs": [
    {
     "name": "stdout",
     "output_type": "stream",
     "text": [
      "x1 = -4.0\n",
      "x2 = 0.0\n",
      "x3 = 0.0\n",
      "x4 = 3.0\n",
      "Objective value = 17.0\n"
     ]
    }
   ],
   "source": [
    "from pulp import*\n",
    "n=4                                 # Number of variables\n",
    "\n",
    "#Initialize the coefficient weights of decision variables in the objective function\n",
    "A = [-2, 1, -4, 3]  \n",
    "\n",
    "# Initialize the coefficient weights of decision variables in the constraints\n",
    "B = [[1, 1, 3, 2],[-1, 0, 1, -1],[2, 1, 0, 0],[1, 2, 1, 2],[-1, -2, -1, -2]] \n",
    "\n",
    "# Initialize the constraint limit values\n",
    "C = [4, 1, 2, 2, -2]\n",
    "\n",
    "# Initialize the problem\n",
    "model=LpProblem('EX1:Simple_Linear_Programming_(LP)_Maximization_Problem_Matrix',LpMaximize)\n",
    "\n",
    "# Automatic Variable Initialization\n",
    "x = [LpVariable(f'x{i+1}', lowBound=0 if i > 0 else None, cat=LpContinuous) for i in range(n)]\n",
    "\n",
    "# Objective Function\n",
    "model += lpDot(A, x)\n",
    "\n",
    "# Constraints\n",
    "for i in range(len(C)):\n",
    "    model += lpDot(B[i], x) <= C[i]\n",
    "    \n",
    "# Solve the problem\n",
    "model.solve()\n",
    "\n",
    "# Print results\n",
    "for v in model.variables():\n",
    "    print(v.name, \"=\", v.varValue)\n",
    "print(\"Objective value =\", value(model.objective))"
   ]
  },
  {
   "cell_type": "markdown",
   "id": "d37c5b5b-9bcc-446e-872c-48956f5e67a1",
   "metadata": {
    "jp-MarkdownHeadingCollapsed": true
   },
   "source": [
    "## EX2: Integer Programming (IP) - **Transportation Problem**"
   ]
  },
  {
   "cell_type": "markdown",
   "id": "3fc9da8f-9f51-4b96-bd64-4b7c6264fc59",
   "metadata": {},
   "source": [
    "The Transportation Problem is a type of Linear Programming (LP) problem that aims to minimize the cost of transporting goods from multiple suppliers (sources) to multiple consumers (destinations) while satisfying supply and demand constraints."
   ]
  },
  {
   "attachments": {
    "71821d4b-8009-4b3f-9f7d-bd9a7c5f91ed.png": {
     "image/png": "[encoded data removed]"
    },
    "971cd804-dbb7-4946-8abb-8d93b9d12566.png": {
     "image/png": "[encoded data removed]"
    },
    "a3319940-907c-4f27-9010-490c98e00dd3.png": {
     "image/png": "[encoded data removed]"
    }
   },
   "cell_type": "markdown",
   "id": "bc6bd874-4582-4a94-9f69-7754829b1cc7",
   "metadata": {},
   "source": [
    "**Decison variables:**\n",
    "$X_{ij}$ ​=  of goods transported from supplier *i* to consumer *j*\n",
    "\n",
    "**Objective Function:** Minimize the total transportation cost.\n",
    "\n",
    "![image.png](attachment:71821d4b-8009-4b3f-9f7d-bd9a7c5f91ed.png)  Where $c_{ij}$= cost per unit of transporting goods from supplier *i* to consumer *j*\n",
    "\n",
    "\n",
    "**Constraints:**\n",
    "- 1. Supply Constraint: he total amount shipped from each supplier cannot exceed its available supply.\n",
    "     - ![image.png](attachment:971cd804-dbb7-4946-8abb-8d93b9d12566.png)\n",
    "- 2. Demand Constraint: The total amount received by each consumer must meet its demand.\n",
    "     - ![image.png](attachment:a3319940-907c-4f27-9010-490c98e00dd3.png)"
   ]
  },
  {
   "attachments": {
    "d7e774c7-a8e5-434c-ba0d-c8f04527a13d.png": {
     "image/png": "[encoded data removed]"
    }
   },
   "cell_type": "markdown",
   "id": "e42c06bb-3f6a-4360-9535-1979b8324c76",
   "metadata": {},
   "source": [
    "---------------\n",
    "\n",
    "![image.png](attachment:d7e774c7-a8e5-434c-ba0d-c8f04527a13d.png)"
   ]
  },
  {
   "cell_type": "code",
   "execution_count": 88,
   "id": "e9a5a18f-8e68-4e93-8c3e-7e3381956176",
   "metadata": {},
   "outputs": [
    {
     "name": "stdout",
     "output_type": "stream",
     "text": [
      "The quantity supplied from supplier 1 to store 1: 0.0\n",
      "The quantity supplied from supplier 1 to store 2: 0.0\n",
      "The quantity supplied from supplier 1 to store 3: 25.0\n",
      "The quantity supplied from supplier 1 to store 4: 0.0\n",
      "The quantity supplied from supplier 2 to store 1: 0.0\n",
      "The quantity supplied from supplier 2 to store 2: 0.0\n",
      "The quantity supplied from supplier 2 to store 3: 0.0\n",
      "The quantity supplied from supplier 2 to store 4: 20.0\n",
      "The quantity supplied from supplier 3 to store 1: 20.0\n",
      "The quantity supplied from supplier 3 to store 2: 15.0\n",
      "The quantity supplied from supplier 3 to store 3: 0.0\n",
      "The quantity supplied from supplier 3 to store 4: 0.0\n",
      "Total cost: 575.0\n"
     ]
    }
   ],
   "source": [
    "from pulp import *     \n",
    "\n",
    "# Initialize the problem (Minimization problem)\n",
    "model = LpProblem(\"Transportation_Problem\", LpMinimize) \n",
    "\n",
    "supply = [50, 30, 40]      # Available supply of each supplier\n",
    "demand = [20, 15, 25, 20]  # Demand of each store\n",
    "cost = [[8, 10, 7, 9],\n",
    "        [10, 9, 8, 7],\n",
    "        [7, 8, 10, 9]]\n",
    "\n",
    "# Create variables\n",
    "x = LpVariable.dicts(\"x\", [(i, j) for i in range(len(supply)) for j in range(len(demand))], lowBound=0, cat='Continuous')\n",
    "\n",
    "# Objective Function (Minimize total cost)\n",
    "model += lpSum(x[i, j] * cost[i][j] for i in range(len(supply)) for j in range(len(demand)))\n",
    "\n",
    "# Constraints\n",
    "for i in range(len(supply)):\n",
    "    model += lpSum(x[i, j] for j in range(len(demand))) <= supply[i]  # Supply cannot exceed available supply\n",
    "\n",
    "for j in range(len(demand)):\n",
    "    model += lpSum(x[i, j] for i in range(len(supply))) == demand[j]  # Demand must be satisfied exactly\n",
    "\n",
    "# Solve the problem\n",
    "model.solve()\n",
    "\n",
    "# Print results\n",
    "for i in range(len(supply)):\n",
    "    for j in range(len(demand)):\n",
    "        print(f\"The quantity supplied from supplier {i+ 1} to store {j+ 1}: {x[i, j].varValue}\")\n",
    "\n",
    "total_cost = sum(x[i, j].varValue * cost[i][j] for i in range(len(supply)) for j in range(len(demand)))\n",
    "print(f\"Total cost: {total_cost}\")"
   ]
  },
  {
   "cell_type": "markdown",
   "id": "0dfcafe7-5ed1-41cc-a465-f57c50928512",
   "metadata": {
    "jp-MarkdownHeadingCollapsed": true
   },
   "source": [
    "## EX3: Binary Integer Programming (BIP)- **Assignment Problem**"
   ]
  },
  {
   "cell_type": "markdown",
   "id": "58c85e55-5c8d-4870-a254-310dfd3e8d2c",
   "metadata": {},
   "source": [
    "The Assignment Problem is an optimization problem where n tasks are assigned to m workers/machines to minimize cost or maximize efficiency. \n",
    "\n",
    "This is Decision-making problems,(Yes/No or On/Off) are solved using Binary Integer Programming (BIP)."
   ]
  },
  {
   "attachments": {
    "8fec1834-cea7-4548-9e52-c620bf68f48d.png": {
     "image/png": "[encoded data removed]"
    }
   },
   "cell_type": "markdown",
   "id": "f3433339-cfa1-4887-8316-e17a0cdc8e85",
   "metadata": {},
   "source": [
    "**Objective Function:** Minimize total cost or maximize total efficiency\n",
    "\n",
    "![image.png](attachment:8fec1834-cea7-4548-9e52-c620bf68f48d.png)\n",
    "\n",
    "Where: \n",
    "- $c_{ij}$ is the cost or benefit of assigning task *i* to worker *j*\n",
    "- $x_{ij}$ is a decision variable 1 if task *i* is assigned to worker *j*, 0 otherwise)"
   ]
  },
  {
   "attachments": {
    "108258f3-93a1-4797-ac0a-8131610c98ee.png": {
     "image/png": "[encoded data removed]"
    },
    "4744c782-a79e-4528-87da-3a41f3136f44.png": {
     "image/png": "[encoded data removed]"
    }
   },
   "cell_type": "markdown",
   "id": "078131b1-b32d-4c7f-b7bd-814c19332630",
   "metadata": {},
   "source": [
    "**Constraints:**\n",
    "- $x_{ij}$ $\\in$ {0,1} (Integer Programming - IP)\n",
    "\n",
    "- Each task is assigned to exactly one worker:\n",
    "\n",
    "   ![image.png](attachment:4744c782-a79e-4528-87da-3a41f3136f44.png)\n",
    "\n",
    "- Each worker handles only one task:\n",
    "\n",
    "  ![image.png](attachment:108258f3-93a1-4797-ac0a-8131610c98ee.png)"
   ]
  },
  {
   "attachments": {
    "eae3a341-cbfb-49f6-9cd0-be330342fce4.png": {
     "image/png": "[encoded data removed]"
    }
   },
   "cell_type": "markdown",
   "id": "c44eccb9-4213-4aee-9aed-d33f68ed7f1d",
   "metadata": {},
   "source": [
    "EX3\n",
    "\n",
    "![image.png](attachment:eae3a341-cbfb-49f6-9cd0-be330342fce4.png)"
   ]
  },
  {
   "cell_type": "code",
   "execution_count": 100,
   "id": "ed92c775-2dba-4862-8a0d-01bbadf48b99",
   "metadata": {},
   "outputs": [
    {
     "name": "stdout",
     "output_type": "stream",
     "text": [
      "Worker 1 is assigned to Task 2\n",
      "Worker 2 is assigned to Task 3\n",
      "Worker 3 is assigned to Task 4\n",
      "Worker 4 is assigned to Task 1\n",
      "Worker 5 is assigned to Task 6\n",
      "Worker 6 is assigned to Task 5\n",
      "Minimum total time: 300.0\n"
     ]
    }
   ],
   "source": [
    "from pulp import *\n",
    "\n",
    "num_workers = 6          \n",
    "num_tasks   = 6\n",
    "time = [\n",
    "    [45, 50, 60, 70, 55, 65],\n",
    "    [60, 55, 50, 65, 70, 75],\n",
    "    [75, 60, 55, 50, 65, 60],\n",
    "    [50, 65, 70, 55, 60, 45],\n",
    "    [80, 70, 65, 60, 55, 50],\n",
    "    [55, 60, 75, 80, 50, 65]]\n",
    "\n",
    "# Initialize the problem (Minimization problem)\n",
    "model = LpProblem(\"Assignment_Problem\", LpMinimize)\n",
    "\n",
    "# Create variables\n",
    "x = LpVariable.dicts(\"x\", [(i, j) for i in range(num_workers) for j in range(num_tasks)], cat=LpBinary)\n",
    "\n",
    "# Objective Function (Minimize total time)\n",
    "model += lpSum(time[i][j] * x[(i, j)] for i in range(num_workers) for j in range(num_tasks))\n",
    "\n",
    "# Constraints\n",
    "# Each worker is assigned exactly one task\n",
    "for i in range(num_workers):\n",
    "    model += lpSum(x[(i, j)] for j in range(num_tasks)) == 1    \n",
    "\n",
    "# Each task is assigned to exactly one worker\n",
    "for j in range(num_tasks):\n",
    "    model += lpSum(x[(i, j)] for i in range(num_workers)) == 1             \n",
    "\n",
    "# Solve the problem\n",
    "model.solve()\n",
    "\n",
    "# Print results\n",
    "for i in range(num_workers):\n",
    "    for j in range(num_tasks):\n",
    "        if value(x[(i, j)]) == 1:\n",
    "            print(f\"Worker {i+1} is assigned to Task {j+1}\") \n",
    "total_time = value(model.objective)\n",
    "print(f\"Minimum total time: {total_cost}\")"
   ]
  },
  {
   "cell_type": "markdown",
   "id": "7825dcc4-ec37-427f-b52a-9b7189a51ba2",
   "metadata": {
    "jp-MarkdownHeadingCollapsed": true
   },
   "source": [
    "## EX4: Mixed-Integer Programming (MIP) Problem - **Manufacturing Planning**"
   ]
  },
  {
   "cell_type": "markdown",
   "id": "fdc52162-a21e-46b3-a8fa-ccd8bb0c985a",
   "metadata": {},
   "source": [
    "A factory produces two types of products: **A** and **B**. The factory has limited **machine time** and **labor hours**, and it must determine the number of each product to manufacture in order to maximize profit while satisfying resource constraints."
   ]
  },
  {
   "cell_type": "markdown",
   "id": "c16c7c8a-a263-4441-800a-1fe07b3f1c21",
   "metadata": {},
   "source": [
    "- Each Product A gives 50 dollars profit\n",
    "- Each Product B gives 40 dollars profit\n",
    "- Each extra labor hour costs 5 dollars\n",
    "- Machine hours available = 100\n",
    "- Base labor hours = 120, but extra labor *y* can be used"
   ]
  },
  {
   "cell_type": "markdown",
   "id": "25a78854-aa93-4f50-8b9a-0cd574703cd0",
   "metadata": {},
   "source": [
    "**Decison variable:**\n",
    "- $x_{1}$ = Number of Product A to produce (Integer)\n",
    "- $x_{2}$ = Number of Product B to produce (Integer)\n",
    "-    *y*    = Extra labor hours used (Continuous)"
   ]
  },
  {
   "cell_type": "markdown",
   "id": "57e5104f-41e4-4453-8f93-919d096b4069",
   "metadata": {},
   "source": [
    "**Objective Function** : Maximize Profit\n",
    "\n",
    "**Constraints**:\n",
    "\n",
    "- Machine Time Constraint: Machine hours available = 100\n",
    "- Labor Hour Constraint : Base labor hours = 120, but extra labor *y* can be used\n",
    "- $x_{1}$, $x_{2}$ are Integer , $x_{1}$, $x_{2}$ > 0\n",
    "- *y*  $\\geq$ 0 "
   ]
  },
  {
   "cell_type": "code",
   "execution_count": 35,
   "id": "d5963993-60c1-4e68-aca3-3af0ba9685c4",
   "metadata": {},
   "outputs": [
    {
     "name": "stdout",
     "output_type": "stream",
     "text": [
      "Product A: 25.0 units\n",
      "Product B: 50.0 units\n",
      "Extra Labor Used: 55.0 hours\n",
      "Maximum Profit: $2975.0\n"
     ]
    }
   ],
   "source": [
    "from pulp import *\n",
    "\n",
    "# Initialize the problem\n",
    "model = LpProblem(\"Manufacturing_Planning_MIP\", LpMaximize)\n",
    "\n",
    "# Decision Variables\n",
    "x_A = LpVariable(\"Product_A\", lowBound=0, cat=\"Integer\")\n",
    "x_B = LpVariable(\"Product_B\", lowBound=0, cat=\"Integer\")\n",
    "y = LpVariable(\"Extra_Labor\", lowBound=0, cat=\"Continuous\")\n",
    "\n",
    "# Objective Function (Maximize Profit)\n",
    "model += 50*x_A + 40*x_B - 5*y\n",
    "\n",
    "# Constraints\n",
    "model += 2*x_A + x_B <= 100  # Machine Time Constraint\n",
    "model += 3*x_A + 2*x_B <= 120 + y  # Labor Constraint\n",
    "model += x_A <= 40  # Product A Demand Constraint\n",
    "model += x_B <= 50  # Product B Demand Constraint\n",
    "\n",
    "# Solve the model\n",
    "model.solve()\n",
    "\n",
    "# Print Results\n",
    "print(f\"Product A: {x_A.varValue} units\")\n",
    "print(f\"Product B: {x_B.varValue} units\")\n",
    "print(f\"Extra Labor Used: {y.varValue} hours\")\n",
    "print(f\"Maximum Profit: ${value(model.objective)}\")"
   ]
  }
 ],
 "metadata": {
  "kernelspec": {
   "display_name": "Python 3 (ipykernel)",
   "language": "python",
   "name": "python3"
  },
  "language_info": {
   "codemirror_mode": {
    "name": "ipython",
    "version": 3
   },
   "file_extension": ".py",
   "mimetype": "text/x-python",
   "name": "python",
   "nbconvert_exporter": "python",
   "pygments_lexer": "ipython3",
   "version": "3.11.7"
  }
 },
 "nbformat": 4,
 "nbformat_minor": 5
}
